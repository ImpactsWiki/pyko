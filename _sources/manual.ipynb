{
 "cells": [
  {
   "cell_type": "markdown",
   "id": "40c8168f",
   "metadata": {},
   "source": [
    "# User Manual\n",
    "\n",
    "pyKO is a 1-D elastic-plastic, 2nd order, Lagrangian hydrocode<br>\n",
    "Adapted from John Borg's Fortran KO code v11 (https://www.eng.mu.edu/shockphysics/KO/)<br>\n",
    "Based on Mark Wilkins, Computer Simulation of Dynamic Phenomena, Springer-Verlag, 1999\n",
    "\n",
    "## Features\n",
    "\n",
    "* Planar, cylindrical, spherical geometries\n",
    "* Fixed (symmetric, zero particle velocity) and free (zero presure) boundary conditions\n",
    "* Von Mises shear strength\n",
    "* EOS\n",
    "    * Ideal gas\n",
    "    * Mie-Grueneisen\n",
    "    * Tabular EOS\n",
    "* Input and output\n",
    "    1. For testing and comparison to fortran KO:\n",
    "       Fixed formatting ascii input and output files\n",
    "    2. Preferred I/O\n",
    "       Yaml configuration (input) files with unit conversion using pint\n",
    "       Binary output files using pickle with units\n",
    "\n",
    "### Wish list\n",
    "\n",
    "* Fracture and gaps\n",
    "* Variable mesh spacing\n",
    "* Tillotson EOS\n",
    "* Gravity\n",
    "* More strength models\n",
    "* Restart from binary\n",
    "* Absorbing boundary condition\n",
    "* Numba performance enhancements (this code is about 10x slower than fortran)\n",
    "\n",
    "## pyKO source files\n",
    "\n",
    "* pyko.py: primary hydrocode and I/O functions\n",
    "* eos_table.py: module for using EOS tables developed for ANEOS models\n",
    "\n",
    "## Required packages\n",
    "\n",
    "* Python (developed in 3.9.16)\n",
    "* Numpy (1.24.2)\n",
    "* Pint (0.20.1)\n",
    "* Yaml (6.0)\n",
    "* Pickle (4.0)\n",
    "\n",
    "Required python packages for test cases and visualization examples:<p>\n",
    "\n",
    "* JupyterLab (3.5.0)\n",
    "* Pandas (1.4.2)\n",
    "* Hvplot (0.8.2)\n",
    "* Matplotlib (3.7.0)\n",
    "* Scipy (1.9.1) (needed for sodshock.py)\n",
    "\n",
    "### Test cases in repository\n",
    "Test cases are included as Jupyter Notebooks, for training and validation.<br>\n",
    "The ANEOS models used here are for TESTING ONLY; they are not research-level EOS models.<br>\n",
    "Each test has fortran-style ascii input file and new pyKO yaml configuration file.<p>\n",
    "\n",
    "* Test 1: Two Mie-Grueneisen plates planar impact, comparison to fortran KO\n",
    "* Test 1b: Three plates\n",
    "* Test 2: Sod shock tube test for ideal gases, comparison to analytic solution and fortran KO\n",
    "* Test 3: EOS table ideal gas Sod shock tube test, comparison to analytic solutoin\n",
    "* Test 4: EOS table planar plate impact, comparison to Mie-Grueneisen fortran KO\n",
    "* Test 5: EOS table expansion of shocked water into free space"
   ]
  }
 ],
 "metadata": {
  "jupytext": {
   "formats": "md:myst",
   "text_representation": {
    "extension": ".md",
    "format_name": "myst"
   }
  },
  "kernelspec": {
   "display_name": "Python 3",
   "language": "python",
   "name": "python3"
  },
  "language_info": {
   "codemirror_mode": {
    "name": "ipython",
    "version": 3
   },
   "file_extension": ".py",
   "mimetype": "text/x-python",
   "name": "python",
   "nbconvert_exporter": "python",
   "pygments_lexer": "ipython3",
   "version": "3.9.16"
  },
  "source_map": [
   11
  ]
 },
 "nbformat": 4,
 "nbformat_minor": 5
}