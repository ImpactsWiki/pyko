{
 "cells": [
  {
   "cell_type": "markdown",
   "id": "a10458b1",
   "metadata": {},
   "source": [
    "(page:strength)=\n",
    "# Material strength\n",
    "\n",
    "## Von Mises strength\n",
    "\n",
    "A <a href=\"https://en.wikipedia.org/wiki/Von_Mises_yield_criterion\">Von Mises material</a> yields when the second invariant of deviatoric stress \n",
    "$J_{2}$ reaches a critical value (input parameter ys=yield stress=$\\sigma_{vm}$). Under uniaxial stress, the material yields when the principal stress exceeds the yield stress, $\\sigma_1 > \\sigma_{vm}$. Planar shock waves are uniaxial strain, and the Hugoniot Elastic Limit $\\sigma_{HEL} = (1-\\nu) \\sigma_{vm} / (1-2\\nu)$.\n",
    "\n",
    "\n",
    "Von Mises strength requires two material parameters: the shear modulus (gmod) and the yield stress (ys).\n",
    "\n",
    "Example configuration file entry (mks):\n",
    "```\n",
    "mat1:\n",
    "    str:\n",
    "        type   : 'VM'\n",
    "        gmod   : 47.7E9\n",
    "        ys     : 0.12E9\n",
    "```\n",
    "\n",
    "\n",
    "\n",
    "## Hydrodynamic material\n",
    "\n",
    "A hydrodynamic material (shear modulus $G=0$) is indicated with this configuration file entry:\n",
    "```\n",
    "mat1:\n",
    "    str:\n",
    "        type   : 'HYDRO'\n",
    "```\n",
    "\n",
    "## Fracture and void space\n",
    "\n",
    "Dynamic fracture is implemented but not stable nor validated at this time.\n",
    "\n",
    "Fracture requires the Mie-Grueneisen EOS or a tabular EOS with a tension region.\n",
    "\n",
    "Example configuration file entry (mks):\n",
    "```\n",
    "mat1:\n",
    "    frac:\n",
    "        pfrac  : 1.0E9\n",
    "```\n",
    "\n",
    "The code has the ability to close void spaces when surfaces come into contact. \n",
    "The current implementation of void closure uses a simplified calculation compared to Wilkins book for the time step for contact.\n",
    "The full convergence loop for contact time should be implemented in the future."
   ]
  }
 ],
 "metadata": {
  "jupytext": {
   "formats": "md:myst",
   "text_representation": {
    "extension": ".md",
    "format_name": "myst"
   }
  },
  "kernelspec": {
   "display_name": "Python 3",
   "language": "python",
   "name": "python3"
  },
  "language_info": {
   "codemirror_mode": {
    "name": "ipython",
    "version": 3
   },
   "file_extension": ".py",
   "mimetype": "text/x-python",
   "name": "python",
   "nbconvert_exporter": "python",
   "pygments_lexer": "ipython3",
   "version": "3.9.16"
  },
  "source_map": [
   11
  ]
 },
 "nbformat": 4,
 "nbformat_minor": 5
}