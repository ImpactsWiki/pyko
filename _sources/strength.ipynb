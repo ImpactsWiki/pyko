{
 "cells": [
  {
   "cell_type": "markdown",
   "id": "037f3a95",
   "metadata": {},
   "source": [
    "(page:strength)=\n",
    "# Material strength\n",
    "\n",
    "## Von Mises strength\n",
    "\n",
    "Von Mises strength requires two material parameters: the shear modulus and the yield strength.\n",
    "\n",
    "Example configuration file entry (mks):\n",
    "```\n",
    "mat1:\n",
    "    str:\n",
    "        type   : 'VM'\n",
    "        gmod   : 47.7E9\n",
    "        ys     : 0.12E9\n",
    "```\n",
    "\n",
    "## Hydrodynamic material\n",
    "\n",
    "A hydrodynamic material is indicated with this configuration file entry:\n",
    "```\n",
    "mat1:\n",
    "    str:\n",
    "        type   : 'HYDRO'\n",
    "```\n",
    "\n",
    "## Fracture\n",
    "\n",
    "Fracture is not yet implemented but coming soon.\n",
    "\n",
    "Fracture requires the Mie-Grueneisen EOS or a tabular EOS with a tension region."
   ]
  }
 ],
 "metadata": {
  "jupytext": {
   "formats": "md:myst",
   "text_representation": {
    "extension": ".md",
    "format_name": "myst"
   }
  },
  "kernelspec": {
   "display_name": "Python 3",
   "language": "python",
   "name": "python3"
  },
  "language_info": {
   "codemirror_mode": {
    "name": "ipython",
    "version": 3
   },
   "file_extension": ".py",
   "mimetype": "text/x-python",
   "name": "python",
   "nbconvert_exporter": "python",
   "pygments_lexer": "ipython3",
   "version": "3.9.16"
  },
  "source_map": [
   11
  ]
 },
 "nbformat": 4,
 "nbformat_minor": 5
}