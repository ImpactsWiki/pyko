{
 "cells": [
  {
   "cell_type": "markdown",
   "id": "eea07621",
   "metadata": {},
   "source": [
    "(page:materials)=\n",
    "# Example materials\n",
    "\n",
    "## Water Ice\n",
    "\n",
    "[//]: # (https://link.springer.com/article/10.1023/A:1021134128038)\n",
    "\n",
    "The properties of ice depend on the grain structure, temperature and strain rates. Nominal values for the Young's modulus $E=9$ GPa and poisson's ratio $\\nu=0.32$ {cite}`Petrovic2003`. The corresponding shear modulus $G = \\frac{E}{2(1+\\nu)} = 3.38$ GPa. Cold ice under uniaxial strain has a Hugoniot Elastic Limit of 0.62 GPa {cite}`Stewart2005`. The average tensile strength for ice is 1.43 MPa at low strain rates {cite}`Petrovic2003`; the dynamic spall strength of ice is about 17 MPa {cite}`Lange1983`. The relationship between the Hugoniot Elastic Limit and the von Mises yield stress is:\n",
    "\n",
    "$\\sigma_{vm}  = \\frac{(1-2\\nu) \\sigma_{HEL}}{(1-\\nu)} = 0.328$ GPa.\n",
    "\n",
    "Bulk modulus of ice is about 10 GPa at 150 K {cite}`You2018`.\n",
    "\n",
    "There are multiple options for the equation of state for H<sub>2</sub>O, each with various strengths and weaknesses and should be chosen based on the desired application.\n",
    "\n",
    "Example configuration file entry (mks):\n",
    "```\n",
    "mat1:\n",
    "    str:\n",
    "        type   : 'VM'\n",
    "        gmod   : 3.38E9\n",
    "        ys     : 0.328E9\n",
    "        kmod   : 10.0E9\n",
    "        cs0    : 3305.0\n",
    "    frac:\n",
    "        pfrac  : 17.0E6\n",
    "```\n",
    "\n",
    "## Aluminum 6061\n",
    "\n",
    "[//]: #  (https://www.matweb.com/search/datasheet.aspx?matguid=b8d536e0b9b54bd7b69e4124d8f1d20a&ckck=1)\n",
    "\n",
    "Al 6061 data from https://www.matweb.com/.\n",
    "\n",
    "```\n",
    "mat1:\n",
    "    str:\n",
    "        type   : 'VM'\n",
    "        gmod   : 26.0E9\n",
    "        ys     : 207.0E6\n",
    "    frac:\n",
    "        pfrac  : 276.0E6\n",
    "```\n",
    "\n",
    "## Copper\n",
    "\n",
    "[//]: #  (https://www.matweb.com/search/datasheet.aspx?matguid=9aebe83845c04c1db5126fada6f76f7e)\n",
    "\n",
    "Annealed copper shear modulus (46 GPa) and Poisson's ratio (0.343) from https://www.matweb.com/.\n",
    "\n",
    "Hugoniot elastic limit and tensile strength are dependence on temperature, strain rate, propagation distance, etc. {cite}`Zaretsky2013`. These are nominal values for demonstration purposes only.\n",
    "For an HEL of 0.2 GPa, $\\sigma_{vm}=0.0956$ GPa.\n",
    "\n",
    "```\n",
    "mat1:\n",
    "    str:\n",
    "        type   : 'VM'\n",
    "        gmod   : 46.0E9\n",
    "        ys     : 0.0956E9\n",
    "    frac:\n",
    "        pfrac  : 1.9E9\n",
    "```"
   ]
  }
 ],
 "metadata": {
  "jupytext": {
   "formats": "md:myst",
   "text_representation": {
    "extension": ".md",
    "format_name": "myst"
   }
  },
  "kernelspec": {
   "display_name": "Python 3",
   "language": "python",
   "name": "python3"
  },
  "language_info": {
   "codemirror_mode": {
    "name": "ipython",
    "version": 3
   },
   "file_extension": ".py",
   "mimetype": "text/x-python",
   "name": "python",
   "nbconvert_exporter": "python",
   "pygments_lexer": "ipython3",
   "version": "3.9.16"
  },
  "source_map": [
   11
  ]
 },
 "nbformat": 4,
 "nbformat_minor": 5
}